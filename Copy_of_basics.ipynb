{
  "nbformat": 4,
  "nbformat_minor": 0,
  "metadata": {
    "kernelspec": {
      "display_name": "ds17-unit-1",
      "language": "python",
      "name": "ds17-unit-1"
    },
    "language_info": {
      "codemirror_mode": {
        "name": "ipython",
        "version": 3
      },
      "file_extension": ".py",
      "mimetype": "text/x-python",
      "name": "python",
      "nbconvert_exporter": "python",
      "pygments_lexer": "ipython3",
      "version": "3.6.9"
    },
    "colab": {
      "name": "Copy of basics.ipynb",
      "provenance": [],
      "include_colab_link": true
    }
  },
  "cells": [
    {
      "cell_type": "markdown",
      "metadata": {
        "id": "view-in-github",
        "colab_type": "text"
      },
      "source": [
        "<a href=\"https://colab.research.google.com/github/aster-nega/DS-Unit-1-Sprint-1-Data-Wrangling-and-Storytelling/blob/master/Copy_of_basics.ipynb\" target=\"_parent\"><img src=\"https://colab.research.google.com/assets/colab-badge.svg\" alt=\"Open In Colab\"/></a>"
      ]
    },
    {
      "cell_type": "markdown",
      "metadata": {
        "id": "eaCRXrCTg1GI",
        "colab_type": "text"
      },
      "source": [
        "# Basics"
      ]
    },
    {
      "cell_type": "markdown",
      "metadata": {
        "id": "_E_4A16jg1GJ",
        "colab_type": "text"
      },
      "source": [
        "## load a csv from the following url:\n",
        "\n",
        "#### https://archive.ics.uci.edu/ml/machine-learning-databases/auto-mpg/\n",
        "\n"
      ]
    },
    {
      "cell_type": "code",
      "metadata": {
        "id": "da2hZDXgg1GK",
        "colab_type": "code",
        "colab": {}
      },
      "source": [
        "# A good practice is to keep your import statements to the top of your\n",
        "# notebooks\n",
        "\n",
        "import pandas as pd"
      ],
      "execution_count": 0,
      "outputs": []
    },
    {
      "cell_type": "code",
      "metadata": {
        "id": "L1p1dNNUg1GO",
        "colab_type": "code",
        "outputId": "c81641d0-189c-49d3-9fb4-9d190f5dc58c",
        "colab": {
          "base_uri": "https://localhost:8080/",
          "height": 34
        }
      },
      "source": [
        "# One thing you should begin practicing early is commenting your code!\n",
        "\n",
        "# Another good practice is to use descriptive variable names\n",
        "\n",
        "url = 'https://archive.ics.uci.edu/ml/machine-learning-databases/auto-mpg/auto-mpg.data-original'\n",
        "\n",
        "\n",
        "df = pd.read_csv(url)\n",
        "print(df.shape)\n"
      ],
      "execution_count": 0,
      "outputs": [
        {
          "output_type": "stream",
          "text": [
            "(405, 1)\n"
          ],
          "name": "stdout"
        }
      ]
    },
    {
      "cell_type": "code",
      "metadata": {
        "id": "YtQrEpCUg1GS",
        "colab_type": "code",
        "outputId": "8b916d85-7fc9-416f-8734-dc51b7aa4569",
        "colab": {
          "base_uri": "https://localhost:8080/",
          "height": 204
        }
      },
      "source": [
        "# now print the first 5 rows of the data you just loaded\n",
        "df.head()\n",
        "\n"
      ],
      "execution_count": 0,
      "outputs": [
        {
          "output_type": "execute_result",
          "data": {
            "text/html": [
              "<div>\n",
              "<style scoped>\n",
              "    .dataframe tbody tr th:only-of-type {\n",
              "        vertical-align: middle;\n",
              "    }\n",
              "\n",
              "    .dataframe tbody tr th {\n",
              "        vertical-align: top;\n",
              "    }\n",
              "\n",
              "    .dataframe thead th {\n",
              "        text-align: right;\n",
              "    }\n",
              "</style>\n",
              "<table border=\"1\" class=\"dataframe\">\n",
              "  <thead>\n",
              "    <tr style=\"text-align: right;\">\n",
              "      <th></th>\n",
              "      <th>18.0   8.   307.0      130.0      3504.      12.0   70.  1.\\t\"chevrolet chevelle malibu\"</th>\n",
              "    </tr>\n",
              "  </thead>\n",
              "  <tbody>\n",
              "    <tr>\n",
              "      <th>0</th>\n",
              "      <td>15.0   8.   350.0      165.0      3693.      1...</td>\n",
              "    </tr>\n",
              "    <tr>\n",
              "      <th>1</th>\n",
              "      <td>18.0   8.   318.0      150.0      3436.      1...</td>\n",
              "    </tr>\n",
              "    <tr>\n",
              "      <th>2</th>\n",
              "      <td>16.0   8.   304.0      150.0      3433.      1...</td>\n",
              "    </tr>\n",
              "    <tr>\n",
              "      <th>3</th>\n",
              "      <td>17.0   8.   302.0      140.0      3449.      1...</td>\n",
              "    </tr>\n",
              "    <tr>\n",
              "      <th>4</th>\n",
              "      <td>15.0   8.   429.0      198.0      4341.      1...</td>\n",
              "    </tr>\n",
              "  </tbody>\n",
              "</table>\n",
              "</div>"
            ],
            "text/plain": [
              "  18.0   8.   307.0      130.0      3504.      12.0   70.  1.\\t\"chevrolet chevelle malibu\"\n",
              "0  15.0   8.   350.0      165.0      3693.      1...                                      \n",
              "1  18.0   8.   318.0      150.0      3436.      1...                                      \n",
              "2  16.0   8.   304.0      150.0      3433.      1...                                      \n",
              "3  17.0   8.   302.0      140.0      3449.      1...                                      \n",
              "4  15.0   8.   429.0      198.0      4341.      1...                                      "
            ]
          },
          "metadata": {
            "tags": []
          },
          "execution_count": 20
        }
      ]
    },
    {
      "cell_type": "code",
      "metadata": {
        "id": "Kjmwor3zg1GW",
        "colab_type": "code",
        "outputId": "f6259cc0-c04f-42dc-f317-cad26caf1cca",
        "colab": {
          "base_uri": "https://localhost:8080/",
          "height": 419
        }
      },
      "source": [
        "# and the last 7\n",
        "df.tail(-7)\n"
      ],
      "execution_count": 0,
      "outputs": [
        {
          "output_type": "execute_result",
          "data": {
            "text/html": [
              "<div>\n",
              "<style scoped>\n",
              "    .dataframe tbody tr th:only-of-type {\n",
              "        vertical-align: middle;\n",
              "    }\n",
              "\n",
              "    .dataframe tbody tr th {\n",
              "        vertical-align: top;\n",
              "    }\n",
              "\n",
              "    .dataframe thead th {\n",
              "        text-align: right;\n",
              "    }\n",
              "</style>\n",
              "<table border=\"1\" class=\"dataframe\">\n",
              "  <thead>\n",
              "    <tr style=\"text-align: right;\">\n",
              "      <th></th>\n",
              "      <th>18.0   8.   307.0      130.0      3504.      12.0   70.  1.\\t\"chevrolet chevelle malibu\"</th>\n",
              "    </tr>\n",
              "  </thead>\n",
              "  <tbody>\n",
              "    <tr>\n",
              "      <th>7</th>\n",
              "      <td>14.0   8.   455.0      225.0      4425.      1...</td>\n",
              "    </tr>\n",
              "    <tr>\n",
              "      <th>8</th>\n",
              "      <td>15.0   8.   390.0      190.0      3850.       ...</td>\n",
              "    </tr>\n",
              "    <tr>\n",
              "      <th>9</th>\n",
              "      <td>NA     4.   133.0      115.0      3090.      1...</td>\n",
              "    </tr>\n",
              "    <tr>\n",
              "      <th>10</th>\n",
              "      <td>NA     8.   350.0      165.0      4142.      1...</td>\n",
              "    </tr>\n",
              "    <tr>\n",
              "      <th>11</th>\n",
              "      <td>NA     8.   351.0      153.0      4034.      1...</td>\n",
              "    </tr>\n",
              "    <tr>\n",
              "      <th>...</th>\n",
              "      <td>...</td>\n",
              "    </tr>\n",
              "    <tr>\n",
              "      <th>400</th>\n",
              "      <td>27.0   4.   140.0      86.00      2790.      1...</td>\n",
              "    </tr>\n",
              "    <tr>\n",
              "      <th>401</th>\n",
              "      <td>44.0   4.   97.00      52.00      2130.      2...</td>\n",
              "    </tr>\n",
              "    <tr>\n",
              "      <th>402</th>\n",
              "      <td>32.0   4.   135.0      84.00      2295.      1...</td>\n",
              "    </tr>\n",
              "    <tr>\n",
              "      <th>403</th>\n",
              "      <td>28.0   4.   120.0      79.00      2625.      1...</td>\n",
              "    </tr>\n",
              "    <tr>\n",
              "      <th>404</th>\n",
              "      <td>31.0   4.   119.0      82.00      2720.      1...</td>\n",
              "    </tr>\n",
              "  </tbody>\n",
              "</table>\n",
              "<p>398 rows × 1 columns</p>\n",
              "</div>"
            ],
            "text/plain": [
              "    18.0   8.   307.0      130.0      3504.      12.0   70.  1.\\t\"chevrolet chevelle malibu\"\n",
              "7    14.0   8.   455.0      225.0      4425.      1...                                      \n",
              "8    15.0   8.   390.0      190.0      3850.       ...                                      \n",
              "9    NA     4.   133.0      115.0      3090.      1...                                      \n",
              "10   NA     8.   350.0      165.0      4142.      1...                                      \n",
              "11   NA     8.   351.0      153.0      4034.      1...                                      \n",
              "..                                                 ...                                      \n",
              "400  27.0   4.   140.0      86.00      2790.      1...                                      \n",
              "401  44.0   4.   97.00      52.00      2130.      2...                                      \n",
              "402  32.0   4.   135.0      84.00      2295.      1...                                      \n",
              "403  28.0   4.   120.0      79.00      2625.      1...                                      \n",
              "404  31.0   4.   119.0      82.00      2720.      1...                                      \n",
              "\n",
              "[398 rows x 1 columns]"
            ]
          },
          "metadata": {
            "tags": []
          },
          "execution_count": 21
        }
      ]
    },
    {
      "cell_type": "code",
      "metadata": {
        "id": "mEjsxF2pg1Ga",
        "colab_type": "code",
        "outputId": "64b35687-ad38-4a92-fa52-ffbdf5107ada",
        "colab": {
          "base_uri": "https://localhost:8080/",
          "height": 255
        }
      },
      "source": [
        "# how many rows are in the dataset?\n",
        "total_rows = df.count\n",
        "print(total_rows)\n"
      ],
      "execution_count": 0,
      "outputs": [
        {
          "output_type": "stream",
          "text": [
            "<bound method DataFrame.count of     18.0   8.   307.0      130.0      3504.      12.0   70.  1.\\t\"chevrolet chevelle malibu\"\n",
            "0    15.0   8.   350.0      165.0      3693.      1...                                      \n",
            "1    18.0   8.   318.0      150.0      3436.      1...                                      \n",
            "2    16.0   8.   304.0      150.0      3433.      1...                                      \n",
            "3    17.0   8.   302.0      140.0      3449.      1...                                      \n",
            "4    15.0   8.   429.0      198.0      4341.      1...                                      \n",
            "..                                                 ...                                      \n",
            "400  27.0   4.   140.0      86.00      2790.      1...                                      \n",
            "401  44.0   4.   97.00      52.00      2130.      2...                                      \n",
            "402  32.0   4.   135.0      84.00      2295.      1...                                      \n",
            "403  28.0   4.   120.0      79.00      2625.      1...                                      \n",
            "404  31.0   4.   119.0      82.00      2720.      1...                                      \n",
            "\n",
            "[405 rows x 1 columns]>\n"
          ],
          "name": "stdout"
        }
      ]
    },
    {
      "cell_type": "code",
      "metadata": {
        "id": "ty_r3e9Fg1Ge",
        "colab_type": "code",
        "outputId": "0726dbe0-da98-4d09-b2e9-be4ace6667f4",
        "colab": {
          "base_uri": "https://localhost:8080/",
          "height": 34
        }
      },
      "source": [
        "# how many columns\n",
        "Num_cols = len(df.columns)\n",
        "print(df.columns)\n"
      ],
      "execution_count": 0,
      "outputs": [
        {
          "output_type": "stream",
          "text": [
            "Index(['18.0   8.   307.0      130.0      3504.      12.0   70.  1.\\t\"chevrolet chevelle malibu\"'], dtype='object')\n"
          ],
          "name": "stdout"
        }
      ]
    },
    {
      "cell_type": "code",
      "metadata": {
        "id": "n5VChHsfg1Gh",
        "colab_type": "code",
        "outputId": "9382f2b0-fca8-479c-ef49-bf343215c48a",
        "colab": {
          "base_uri": "https://localhost:8080/",
          "height": 34
        }
      },
      "source": [
        "# what is the shape of the dataset\n",
        "print(df.shape)\n"
      ],
      "execution_count": 0,
      "outputs": [
        {
          "output_type": "stream",
          "text": [
            "(405, 1)\n"
          ],
          "name": "stdout"
        }
      ]
    },
    {
      "cell_type": "markdown",
      "metadata": {
        "id": "Ho8gLGlGg1Gl",
        "colab_type": "text"
      },
      "source": [
        "### From the data directory load the iris dataset"
      ]
    },
    {
      "cell_type": "code",
      "metadata": {
        "id": "fzbSHSXwg1Gm",
        "colab_type": "code",
        "outputId": "2ab9ddcd-5b62-49cc-84ab-10c5e1362fcf",
        "colab": {
          "base_uri": "https://localhost:8080/",
          "height": 204
        }
      },
      "source": [
        "\n",
        "column_headers = [\n",
        "    \"sepal-length\", \"sepal-width\", \"petal-length\", \"petal_width\", \"class\"\n",
        "]\n",
        "\n",
        "df = pd.read_csv(url, names = column_headers)\n",
        "\n",
        "# and print out the first 5 rows\n",
        "df.head()"
      ],
      "execution_count": 0,
      "outputs": [
        {
          "output_type": "execute_result",
          "data": {
            "text/html": [
              "<div>\n",
              "<style scoped>\n",
              "    .dataframe tbody tr th:only-of-type {\n",
              "        vertical-align: middle;\n",
              "    }\n",
              "\n",
              "    .dataframe tbody tr th {\n",
              "        vertical-align: top;\n",
              "    }\n",
              "\n",
              "    .dataframe thead th {\n",
              "        text-align: right;\n",
              "    }\n",
              "</style>\n",
              "<table border=\"1\" class=\"dataframe\">\n",
              "  <thead>\n",
              "    <tr style=\"text-align: right;\">\n",
              "      <th></th>\n",
              "      <th>sepal-length</th>\n",
              "      <th>sepal-width</th>\n",
              "      <th>petal-length</th>\n",
              "      <th>petal_width</th>\n",
              "      <th>class</th>\n",
              "    </tr>\n",
              "  </thead>\n",
              "  <tbody>\n",
              "    <tr>\n",
              "      <th>0</th>\n",
              "      <td>18.0   8.   307.0      130.0      3504.      1...</td>\n",
              "      <td>NaN</td>\n",
              "      <td>NaN</td>\n",
              "      <td>NaN</td>\n",
              "      <td>NaN</td>\n",
              "    </tr>\n",
              "    <tr>\n",
              "      <th>1</th>\n",
              "      <td>15.0   8.   350.0      165.0      3693.      1...</td>\n",
              "      <td>NaN</td>\n",
              "      <td>NaN</td>\n",
              "      <td>NaN</td>\n",
              "      <td>NaN</td>\n",
              "    </tr>\n",
              "    <tr>\n",
              "      <th>2</th>\n",
              "      <td>18.0   8.   318.0      150.0      3436.      1...</td>\n",
              "      <td>NaN</td>\n",
              "      <td>NaN</td>\n",
              "      <td>NaN</td>\n",
              "      <td>NaN</td>\n",
              "    </tr>\n",
              "    <tr>\n",
              "      <th>3</th>\n",
              "      <td>16.0   8.   304.0      150.0      3433.      1...</td>\n",
              "      <td>NaN</td>\n",
              "      <td>NaN</td>\n",
              "      <td>NaN</td>\n",
              "      <td>NaN</td>\n",
              "    </tr>\n",
              "    <tr>\n",
              "      <th>4</th>\n",
              "      <td>17.0   8.   302.0      140.0      3449.      1...</td>\n",
              "      <td>NaN</td>\n",
              "      <td>NaN</td>\n",
              "      <td>NaN</td>\n",
              "      <td>NaN</td>\n",
              "    </tr>\n",
              "  </tbody>\n",
              "</table>\n",
              "</div>"
            ],
            "text/plain": [
              "                                        sepal-length  ...  class\n",
              "0  18.0   8.   307.0      130.0      3504.      1...  ...    NaN\n",
              "1  15.0   8.   350.0      165.0      3693.      1...  ...    NaN\n",
              "2  18.0   8.   318.0      150.0      3436.      1...  ...    NaN\n",
              "3  16.0   8.   304.0      150.0      3433.      1...  ...    NaN\n",
              "4  17.0   8.   302.0      140.0      3449.      1...  ...    NaN\n",
              "\n",
              "[5 rows x 5 columns]"
            ]
          },
          "metadata": {
            "tags": []
          },
          "execution_count": 30
        }
      ]
    },
    {
      "cell_type": "markdown",
      "metadata": {
        "id": "mAMilAWUhPDE",
        "colab_type": "text"
      },
      "source": [
        "## Make a basic graph using either of the above data sources when you're finished post the graph in the ds17 channel on slack"
      ]
    },
    {
      "cell_type": "code",
      "metadata": {
        "id": "LDI-Lv4mg1Gs",
        "colab_type": "code",
        "outputId": "9bf01efc-7c52-456e-9da5-c95953bc50af",
        "colab": {
          "base_uri": "https://localhost:8080/",
          "height": 265
        }
      },
      "source": [
        "df['class'].hist();"
      ],
      "execution_count": 0,
      "outputs": [
        {
          "output_type": "display_data",
          "data": {
            "image/png": "[encoded data removed]",
            "text/plain": [
              "<Figure size 432x288 with 1 Axes>"
            ]
          },
          "metadata": {
            "tags": [],
            "needs_background": "light"
          }
        }
      ]
    },
    {
      "cell_type": "markdown",
      "metadata": {
        "id": "CeKc8dQyhdhf",
        "colab_type": "text"
      },
      "source": [
        "## Save a copy of your notebook to GitHub and submit a pull request to this repository\n",
        "\n"
      ]
    }
  ]
}